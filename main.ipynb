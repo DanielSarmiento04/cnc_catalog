{
 "cells": [
  {
   "cell_type": "code",
   "execution_count": 80,
   "metadata": {},
   "outputs": [],
   "source": [
    "import pandas as pd\n",
    "import numpy as np"
   ]
  },
  {
   "cell_type": "code",
   "execution_count": 78,
   "metadata": {},
   "outputs": [
    {
     "data": {
      "text/html": [
       "<div>\n",
       "<style scoped>\n",
       "    .dataframe tbody tr th:only-of-type {\n",
       "        vertical-align: middle;\n",
       "    }\n",
       "\n",
       "    .dataframe tbody tr th {\n",
       "        vertical-align: top;\n",
       "    }\n",
       "\n",
       "    .dataframe thead th {\n",
       "        text-align: right;\n",
       "    }\n",
       "</style>\n",
       "<table border=\"1\" class=\"dataframe\">\n",
       "  <thead>\n",
       "    <tr style=\"text-align: right;\">\n",
       "      <th></th>\n",
       "      <th>15</th>\n",
       "      <th>45</th>\n",
       "    </tr>\n",
       "  </thead>\n",
       "  <tbody>\n",
       "    <tr>\n",
       "      <th>15</th>\n",
       "      <td>3</td>\n",
       "      <td>2</td>\n",
       "    </tr>\n",
       "    <tr>\n",
       "      <th>15</th>\n",
       "      <td></td>\n",
       "      <td>3</td>\n",
       "    </tr>\n",
       "  </tbody>\n",
       "</table>\n",
       "</div>"
      ],
      "text/plain": [
       "   15 45\n",
       "15  3  2\n",
       "15     3"
      ]
     },
     "execution_count": 78,
     "metadata": {},
     "output_type": "execute_result"
    }
   ],
   "source": [
    "data = \"\"\"\n",
    "Diametro_25\t15\t45\n",
    "15\t3\t2\n",
    "15\t\t3\n",
    "\"\"\"\n",
    "\n",
    "data = data.split('\\n')[1:-1]\n",
    "data = list(\n",
    "    map(\n",
    "        lambda x: x.split('\\t'),\n",
    "        data\n",
    "    )\n",
    ")\n",
    "\n",
    "data = np.array(data)\n",
    "\n",
    "df = pd.DataFrame(\n",
    "    data[1:, 1:],\n",
    "    columns=data[0][1:],\n",
    "    index=data[1:, 0]\n",
    ")\n",
    "df.to_csv('25.csv')\n",
    "df"
   ]
  },
  {
   "cell_type": "code",
   "execution_count": 104,
   "metadata": {},
   "outputs": [
    {
     "data": {
      "text/html": [
       "<div>\n",
       "<style scoped>\n",
       "    .dataframe tbody tr th:only-of-type {\n",
       "        vertical-align: middle;\n",
       "    }\n",
       "\n",
       "    .dataframe tbody tr th {\n",
       "        vertical-align: top;\n",
       "    }\n",
       "\n",
       "    .dataframe thead th {\n",
       "        text-align: right;\n",
       "    }\n",
       "</style>\n",
       "<table border=\"1\" class=\"dataframe\">\n",
       "  <thead>\n",
       "    <tr style=\"text-align: right;\">\n",
       "      <th></th>\n",
       "      <th>15</th>\n",
       "      <th>45</th>\n",
       "    </tr>\n",
       "  </thead>\n",
       "  <tbody>\n",
       "    <tr>\n",
       "      <th>15</th>\n",
       "      <td>3</td>\n",
       "      <td>3</td>\n",
       "    </tr>\n",
       "    <tr>\n",
       "      <th>45</th>\n",
       "      <td>4</td>\n",
       "      <td>4</td>\n",
       "    </tr>\n",
       "  </tbody>\n",
       "</table>\n",
       "</div>"
      ],
      "text/plain": [
       "   15 45\n",
       "15  3  3\n",
       "45  4  4"
      ]
     },
     "execution_count": 104,
     "metadata": {},
     "output_type": "execute_result"
    }
   ],
   "source": [
    "data = \"\"\"\n",
    "Diametro_32\t15\t45\n",
    "15\t3\t3\n",
    "45\t4\t4\n",
    "\"\"\"\n",
    "\n",
    "data = data.split('\\n')[1:-1]\n",
    "data = list(\n",
    "    map(\n",
    "        lambda x: x.split('\\t'),\n",
    "        data\n",
    "    )\n",
    ")\n",
    "\n",
    "data = np.array(data)\n",
    "\n",
    "df = pd.DataFrame(\n",
    "    data[1:, 1:],\n",
    "    columns=data[0][1:],\n",
    "    index=data[1:, 0]\n",
    ")\n",
    "df.to_csv('32.csv')\n",
    "df"
   ]
  },
  {
   "cell_type": "code",
   "execution_count": 57,
   "metadata": {},
   "outputs": [
    {
     "data": {
      "text/plain": [
       "25    2\n",
       "25    3\n",
       "Name: 45, dtype: object"
      ]
     },
     "execution_count": 57,
     "metadata": {},
     "output_type": "execute_result"
    }
   ],
   "source": [
    "# get value at 25 index and 45 columns\n",
    "df.loc['25', '45']\n"
   ]
  },
  {
   "cell_type": "code",
   "execution_count": 27,
   "metadata": {},
   "outputs": [
    {
     "data": {
      "text/plain": [
       "array([['Diametro_25', 'Angulo25_15°', 'Angulo25_15°'],\n",
       "       ['Angulo25_15°', '3', '2'],\n",
       "       ['Angulo25_45°', '', '3']], dtype='<U12')"
      ]
     },
     "execution_count": 27,
     "metadata": {},
     "output_type": "execute_result"
    }
   ],
   "source": [
    "np.array(data) #[1:, 1:]"
   ]
  },
  {
   "cell_type": "code",
   "execution_count": 102,
   "metadata": {},
   "outputs": [
    {
     "data": {
      "text/html": [
       "<div>\n",
       "<style scoped>\n",
       "    .dataframe tbody tr th:only-of-type {\n",
       "        vertical-align: middle;\n",
       "    }\n",
       "\n",
       "    .dataframe tbody tr th {\n",
       "        vertical-align: top;\n",
       "    }\n",
       "\n",
       "    .dataframe thead th {\n",
       "        text-align: right;\n",
       "    }\n",
       "</style>\n",
       "<table border=\"1\" class=\"dataframe\">\n",
       "  <thead>\n",
       "    <tr style=\"text-align: right;\">\n",
       "      <th></th>\n",
       "      <th>Diametro_25</th>\n",
       "      <th>Angulo25_15°</th>\n",
       "      <th>Angulo25_45°</th>\n",
       "    </tr>\n",
       "  </thead>\n",
       "  <tbody>\n",
       "    <tr>\n",
       "      <th>2</th>\n",
       "      <td>Diametro_32</td>\n",
       "      <td>15</td>\n",
       "      <td>45</td>\n",
       "    </tr>\n",
       "    <tr>\n",
       "      <th>2</th>\n",
       "      <td>15</td>\n",
       "      <td>3</td>\n",
       "      <td>3</td>\n",
       "    </tr>\n",
       "    <tr>\n",
       "      <th>4</th>\n",
       "      <td>45</td>\n",
       "      <td>4</td>\n",
       "      <td>4</td>\n",
       "    </tr>\n",
       "  </tbody>\n",
       "</table>\n",
       "</div>"
      ],
      "text/plain": [
       "   Diametro_25 Angulo25_15° Angulo25_45°\n",
       "2  Diametro_32           15           45\n",
       "2           15            3            3\n",
       "4           45            4            4"
      ]
     },
     "execution_count": 102,
     "metadata": {},
     "output_type": "execute_result"
    }
   ],
   "source": [
    "pd.DataFrame(\n",
    "    data,\n",
    "    columns=['Diametro_25', 'Angulo25_15°', 'Angulo25_45°'],\n",
    "    index=['2', '2', '4']\n",
    ")"
   ]
  },
  {
   "cell_type": "code",
   "execution_count": 108,
   "metadata": {},
   "outputs": [
    {
     "data": {
      "text/html": [
       "<div>\n",
       "<style scoped>\n",
       "    .dataframe tbody tr th:only-of-type {\n",
       "        vertical-align: middle;\n",
       "    }\n",
       "\n",
       "    .dataframe tbody tr th {\n",
       "        vertical-align: top;\n",
       "    }\n",
       "\n",
       "    .dataframe thead th {\n",
       "        text-align: right;\n",
       "    }\n",
       "</style>\n",
       "<table border=\"1\" class=\"dataframe\">\n",
       "  <thead>\n",
       "    <tr style=\"text-align: right;\">\n",
       "      <th></th>\n",
       "      <th>type</th>\n",
       "      <th>Nombre</th>\n",
       "      <th>D1</th>\n",
       "      <th>D</th>\n",
       "      <th>Api_max</th>\n",
       "      <th>z</th>\n",
       "    </tr>\n",
       "  </thead>\n",
       "  <tbody>\n",
       "    <tr>\n",
       "      <th>0</th>\n",
       "      <td>PL1</td>\n",
       "      <td>Dodeka Mini de alto avance 15° - Fresas de man...</td>\n",
       "      <td>25</td>\n",
       "      <td>29</td>\n",
       "      <td>1.6</td>\n",
       "      <td>3</td>\n",
       "    </tr>\n",
       "    <tr>\n",
       "      <th>1</th>\n",
       "      <td>PL1</td>\n",
       "      <td>Dodeka Mini de alto avance 15° - Fresas de man...</td>\n",
       "      <td>32</td>\n",
       "      <td>29</td>\n",
       "      <td>1.6</td>\n",
       "      <td>4</td>\n",
       "    </tr>\n",
       "    <tr>\n",
       "      <th>2</th>\n",
       "      <td>PL1</td>\n",
       "      <td>Dodeka Mini de alto avance 15° - Fresas de man...</td>\n",
       "      <td>25</td>\n",
       "      <td>20</td>\n",
       "      <td>1.6</td>\n",
       "      <td>3</td>\n",
       "    </tr>\n",
       "    <tr>\n",
       "      <th>3</th>\n",
       "      <td>PL1</td>\n",
       "      <td>Dodeka Mini de alto avance 15° - Fresas de man...</td>\n",
       "      <td>32</td>\n",
       "      <td>25</td>\n",
       "      <td>1.6</td>\n",
       "      <td>3</td>\n",
       "    </tr>\n",
       "    <tr>\n",
       "      <th>4</th>\n",
       "      <td>PL1</td>\n",
       "      <td>Dodeka Mini de alto avance 15° - Fresas de plato</td>\n",
       "      <td>40</td>\n",
       "      <td>22</td>\n",
       "      <td>1.6</td>\n",
       "      <td>5</td>\n",
       "    </tr>\n",
       "  </tbody>\n",
       "</table>\n",
       "</div>"
      ],
      "text/plain": [
       "  type                                             Nombre  D1   D Api_max  z\n",
       "0  PL1  Dodeka Mini de alto avance 15° - Fresas de man...  25  29     1.6  3\n",
       "1  PL1  Dodeka Mini de alto avance 15° - Fresas de man...  32  29     1.6  4\n",
       "2  PL1  Dodeka Mini de alto avance 15° - Fresas de man...  25  20     1.6  3\n",
       "3  PL1  Dodeka Mini de alto avance 15° - Fresas de man...  32  25     1.6  3\n",
       "4  PL1   Dodeka Mini de alto avance 15° - Fresas de plato  40  22     1.6  5"
      ]
     },
     "execution_count": 108,
     "metadata": {},
     "output_type": "execute_result"
    }
   ],
   "source": [
    "df = pd.read_excel(\n",
    "    './FRESADO_1.xlsm',\n",
    "    sheet_name='PLANEADO',\n",
    "    skiprows=0,\n",
    "    usecols='B,C,F,G,I,J',\n",
    ")\n",
    "\n",
    "df.columns = ['type', 'Nombre', 'D1', 'D', 'Api_max', 'z']\n",
    "df.to_csv('planeado.csv', index=False)\n",
    "df.head()"
   ]
  },
  {
   "cell_type": "code",
   "execution_count": 109,
   "metadata": {},
   "outputs": [
    {
     "data": {
      "text/html": [
       "<div>\n",
       "<style scoped>\n",
       "    .dataframe tbody tr th:only-of-type {\n",
       "        vertical-align: middle;\n",
       "    }\n",
       "\n",
       "    .dataframe tbody tr th {\n",
       "        vertical-align: top;\n",
       "    }\n",
       "\n",
       "    .dataframe thead th {\n",
       "        text-align: right;\n",
       "    }\n",
       "</style>\n",
       "<table border=\"1\" class=\"dataframe\">\n",
       "  <thead>\n",
       "    <tr style=\"text-align: right;\">\n",
       "      <th></th>\n",
       "      <th>type</th>\n",
       "      <th>Nombre</th>\n",
       "      <th>D1</th>\n",
       "      <th>D</th>\n",
       "      <th>Api_max</th>\n",
       "      <th>z</th>\n",
       "    </tr>\n",
       "  </thead>\n",
       "  <tbody>\n",
       "    <tr>\n",
       "      <th>0</th>\n",
       "      <td>ES1</td>\n",
       "      <td>Fresas de mango Screw-On • Mill 4-11™</td>\n",
       "      <td>16</td>\n",
       "      <td>13.0</td>\n",
       "      <td>11.0</td>\n",
       "      <td>2</td>\n",
       "    </tr>\n",
       "    <tr>\n",
       "      <th>1</th>\n",
       "      <td>ES1</td>\n",
       "      <td>Fresas de mango Screw-On • Mill 4-11™</td>\n",
       "      <td>20</td>\n",
       "      <td>18.0</td>\n",
       "      <td>11.0</td>\n",
       "      <td>3</td>\n",
       "    </tr>\n",
       "    <tr>\n",
       "      <th>2</th>\n",
       "      <td>ES1</td>\n",
       "      <td>Fresas de mango Screw-On • Mill 4-11™</td>\n",
       "      <td>25</td>\n",
       "      <td>21.0</td>\n",
       "      <td>11.0</td>\n",
       "      <td>4</td>\n",
       "    </tr>\n",
       "    <tr>\n",
       "      <th>3</th>\n",
       "      <td>ES1</td>\n",
       "      <td>Fresas de mango Screw-On • Mill 4-11™</td>\n",
       "      <td>32</td>\n",
       "      <td>29.0</td>\n",
       "      <td>11.0</td>\n",
       "      <td>5</td>\n",
       "    </tr>\n",
       "    <tr>\n",
       "      <th>4</th>\n",
       "      <td>ES1</td>\n",
       "      <td>Fresas de mango Screw-On • Mill 4-11™</td>\n",
       "      <td>32</td>\n",
       "      <td>29.0</td>\n",
       "      <td>11.0</td>\n",
       "      <td>6</td>\n",
       "    </tr>\n",
       "  </tbody>\n",
       "</table>\n",
       "</div>"
      ],
      "text/plain": [
       "  type                                 Nombre  D1     D  Api_max  z\n",
       "0  ES1  Fresas de mango Screw-On • Mill 4-11™  16  13.0     11.0  2\n",
       "1  ES1  Fresas de mango Screw-On • Mill 4-11™  20  18.0     11.0  3\n",
       "2  ES1  Fresas de mango Screw-On • Mill 4-11™  25  21.0     11.0  4\n",
       "3  ES1  Fresas de mango Screw-On • Mill 4-11™  32  29.0     11.0  5\n",
       "4  ES1  Fresas de mango Screw-On • Mill 4-11™  32  29.0     11.0  6"
      ]
     },
     "execution_count": 109,
     "metadata": {},
     "output_type": "execute_result"
    }
   ],
   "source": [
    "df = pd.read_excel(\n",
    "    './FRESADO_1.xlsm',\n",
    "    sheet_name='ESCUADRADO_90°',\n",
    "    skiprows=0,\n",
    "    usecols='B,C,F,G,I,J',\n",
    ")\n",
    "\n",
    "df.columns = ['type', 'Nombre', 'D1', 'D', 'Api_max', 'z']\n",
    "df.to_csv('escuadrado.csv', index=False)\n",
    "df.head()"
   ]
  },
  {
   "cell_type": "code",
   "execution_count": 114,
   "metadata": {},
   "outputs": [
    {
     "data": {
      "text/plain": [
       "['16',\n",
       " '20',\n",
       " '25',\n",
       " '32',\n",
       " '40',\n",
       " '50',\n",
       " '63',\n",
       " '80',\n",
       " '35',\n",
       " '100',\n",
       " '125',\n",
       " '160',\n",
       " '12',\n",
       " '42',\n",
       " '18',\n",
       " '22',\n",
       " '28',\n",
       " '34',\n",
       " '52',\n",
       " '200']"
      ]
     },
     "execution_count": 114,
     "metadata": {},
     "output_type": "execute_result"
    }
   ],
   "source": [
    "df['D1'].unique().astype(str).tolist()"
   ]
  },
  {
   "cell_type": "code",
   "execution_count": 107,
   "metadata": {},
   "outputs": [
    {
     "data": {
      "text/html": [
       "<div>\n",
       "<style scoped>\n",
       "    .dataframe tbody tr th:only-of-type {\n",
       "        vertical-align: middle;\n",
       "    }\n",
       "\n",
       "    .dataframe tbody tr th {\n",
       "        vertical-align: top;\n",
       "    }\n",
       "\n",
       "    .dataframe thead th {\n",
       "        text-align: right;\n",
       "    }\n",
       "</style>\n",
       "<table border=\"1\" class=\"dataframe\">\n",
       "  <thead>\n",
       "    <tr style=\"text-align: right;\">\n",
       "      <th></th>\n",
       "      <th>type</th>\n",
       "      <th>Nombre</th>\n",
       "      <th>D1</th>\n",
       "      <th>D</th>\n",
       "      <th>Api_max</th>\n",
       "      <th>z</th>\n",
       "    </tr>\n",
       "  </thead>\n",
       "  <tbody>\n",
       "    <tr>\n",
       "      <th>0</th>\n",
       "      <td>RA1</td>\n",
       "      <td>KTMS  •  Fresa para ranuras en T con refrigera...</td>\n",
       "      <td>25</td>\n",
       "      <td>25</td>\n",
       "      <td>11.0</td>\n",
       "      <td>4</td>\n",
       "    </tr>\n",
       "    <tr>\n",
       "      <th>1</th>\n",
       "      <td>RA1</td>\n",
       "      <td>KTMS  •  Fresa para ranuras en T con refrigera...</td>\n",
       "      <td>32</td>\n",
       "      <td>32</td>\n",
       "      <td>14.0</td>\n",
       "      <td>4</td>\n",
       "    </tr>\n",
       "    <tr>\n",
       "      <th>2</th>\n",
       "      <td>RA1</td>\n",
       "      <td>KTMS  •  Fresa para ranuras en T con refrigera...</td>\n",
       "      <td>40</td>\n",
       "      <td>32</td>\n",
       "      <td>18.0</td>\n",
       "      <td>4</td>\n",
       "    </tr>\n",
       "    <tr>\n",
       "      <th>3</th>\n",
       "      <td>RA1</td>\n",
       "      <td>KTMS  •  Fresa para ranuras en T con refrigera...</td>\n",
       "      <td>50</td>\n",
       "      <td>32</td>\n",
       "      <td>22.0</td>\n",
       "      <td>4</td>\n",
       "    </tr>\n",
       "    <tr>\n",
       "      <th>4</th>\n",
       "      <td>RA2</td>\n",
       "      <td>A2 • Ancho de corte 1,6 mm • KVNS ™ A2™</td>\n",
       "      <td>63</td>\n",
       "      <td>16</td>\n",
       "      <td>1.3</td>\n",
       "      <td>5</td>\n",
       "    </tr>\n",
       "  </tbody>\n",
       "</table>\n",
       "</div>"
      ],
      "text/plain": [
       "  type                                             Nombre  D1   D  Api_max  z\n",
       "0  RA1  KTMS  •  Fresa para ranuras en T con refrigera...  25  25     11.0  4\n",
       "1  RA1  KTMS  •  Fresa para ranuras en T con refrigera...  32  32     14.0  4\n",
       "2  RA1  KTMS  •  Fresa para ranuras en T con refrigera...  40  32     18.0  4\n",
       "3  RA1  KTMS  •  Fresa para ranuras en T con refrigera...  50  32     22.0  4\n",
       "4  RA2            A2 • Ancho de corte 1,6 mm • KVNS ™ A2™  63  16      1.3  5"
      ]
     },
     "execution_count": 107,
     "metadata": {},
     "output_type": "execute_result"
    }
   ],
   "source": [
    "df = pd.read_excel(\n",
    "    './FRESADO_1.xlsm',\n",
    "    sheet_name='RANURADO',\n",
    "    skiprows=0,\n",
    "    usecols='B,C,F,G,I,J',\n",
    ")\n",
    "\n",
    "df.columns = ['type', 'Nombre', 'D1', 'D', 'Api_max', 'z']\n",
    "df.to_csv('ranurado.csv', index=False)\n",
    "df.head()"
   ]
  },
  {
   "cell_type": "code",
   "execution_count": null,
   "metadata": {},
   "outputs": [],
   "source": []
  }
 ],
 "metadata": {
  "kernelspec": {
   "display_name": "base",
   "language": "python",
   "name": "python3"
  },
  "language_info": {
   "codemirror_mode": {
    "name": "ipython",
    "version": 3
   },
   "file_extension": ".py",
   "mimetype": "text/x-python",
   "name": "python",
   "nbconvert_exporter": "python",
   "pygments_lexer": "ipython3",
   "version": "3.11.5"
  }
 },
 "nbformat": 4,
 "nbformat_minor": 2
}
